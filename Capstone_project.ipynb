## APPLIED CAPSTONE PROJECT - DATA SCIENCE
import pandas as pd 
import numpy as np
print("Hello Capstoneproject course")

